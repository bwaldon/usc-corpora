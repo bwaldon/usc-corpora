{
 "cells": [
  {
   "cell_type": "code",
   "execution_count": 1,
   "metadata": {},
   "outputs": [
    {
     "name": "stderr",
     "output_type": "stream",
     "text": [
      "/Users/bw/Documents/chapeau_parse/.venv/lib/python3.12/site-packages/tqdm/auto.py:21: TqdmWarning: IProgress not found. Please update jupyter and ipywidgets. See https://ipywidgets.readthedocs.io/en/stable/user_install.html\n",
      "  from .autonotebook import tqdm as notebook_tqdm\n"
     ]
    }
   ],
   "source": [
    "import stanza\n",
    "from chapeau_parse import chapeau_parse\n",
    "from utils import get_maximal_chapeaus"
   ]
  },
  {
   "cell_type": "code",
   "execution_count": 2,
   "metadata": {},
   "outputs": [
    {
     "name": "stderr",
     "output_type": "stream",
     "text": [
      "2024-10-25 00:01:27 INFO: Checking for updates to resources.json in case models have been updated.  Note: this behavior can be turned off with download_method=None or download_method=DownloadMethod.REUSE_RESOURCES\n",
      "Downloading https://raw.githubusercontent.com/stanfordnlp/stanza-resources/main/resources_1.9.0.json: 392kB [00:00, 60.8MB/s]                    \n",
      "2024-10-25 00:01:27 INFO: Downloaded file to /Users/bw/stanza_resources/resources.json\n",
      "2024-10-25 00:01:27 WARNING: Language en package default expects mwt, which has been added\n",
      "2024-10-25 00:01:27 INFO: Loading these models for language: en (English):\n",
      "========================\n",
      "| Processor | Package  |\n",
      "------------------------\n",
      "| tokenize  | combined |\n",
      "| mwt       | combined |\n",
      "========================\n",
      "\n",
      "2024-10-25 00:01:27 INFO: Using device: cpu\n",
      "2024-10-25 00:01:27 INFO: Loading: tokenize\n",
      "2024-10-25 00:01:28 INFO: Loading: mwt\n",
      "2024-10-25 00:01:28 INFO: Done loading processors!\n",
      "2024-10-25 00:01:28 INFO: Checking for updates to resources.json in case models have been updated.  Note: this behavior can be turned off with download_method=None or download_method=DownloadMethod.REUSE_RESOURCES\n",
      "Downloading https://raw.githubusercontent.com/stanfordnlp/stanza-resources/main/resources_1.9.0.json: 392kB [00:00, 15.2MB/s]                    \n",
      "2024-10-25 00:01:28 INFO: Downloaded file to /Users/bw/stanza_resources/resources.json\n",
      "2024-10-25 00:01:30 INFO: Loading these models for language: en (English):\n",
      "======================================\n",
      "| Processor    | Package             |\n",
      "--------------------------------------\n",
      "| tokenize     | combined            |\n",
      "| mwt          | combined            |\n",
      "| pos          | combined_charlm     |\n",
      "| lemma        | combined_nocharlm   |\n",
      "| constituency | ptb3-revised_charlm |\n",
      "| depparse     | combined_charlm     |\n",
      "======================================\n",
      "\n",
      "2024-10-25 00:01:30 INFO: Using device: cpu\n",
      "2024-10-25 00:01:30 INFO: Loading: tokenize\n",
      "2024-10-25 00:01:30 INFO: Loading: mwt\n",
      "2024-10-25 00:01:30 INFO: Loading: pos\n",
      "2024-10-25 00:01:30 INFO: Loading: lemma\n",
      "2024-10-25 00:01:30 INFO: Loading: constituency\n",
      "2024-10-25 00:01:31 INFO: Loading: depparse\n",
      "2024-10-25 00:01:31 INFO: Done loading processors!\n"
     ]
    }
   ],
   "source": [
    "nlp_tok = stanza.Pipeline('en', processors='tokenize')\n",
    "nlp = stanza.Pipeline('en', processors='tokenize,mwt,pos,lemma,depparse,constituency', tokenize_pretokenized=True)"
   ]
  },
  {
   "cell_type": "code",
   "execution_count": 3,
   "metadata": {},
   "outputs": [],
   "source": [
    "with open(\"usc29.xml\", 'r') as file:\n",
    "        usc29_raw = file.read()"
   ]
  },
  {
   "cell_type": "code",
   "execution_count": 4,
   "metadata": {},
   "outputs": [
    {
     "name": "stdout",
     "output_type": "stream",
     "text": [
      "Number of elements before removing notes: 112711\n",
      "Number of elements after removing notes: 71218\n"
     ]
    }
   ],
   "source": [
    "from bs4 import BeautifulSoup\n",
    "from utils import remove_notes\n",
    "usc29_xml = BeautifulSoup(usc29_raw, 'xml')\n",
    "print(\"Number of elements before removing notes: \" + str(len(usc29_xml.find_all())))\n",
    "usc29_xml = remove_notes(usc29_xml)\n",
    "print(\"Number of elements after removing notes: \" + str(len(usc29_xml.find_all())))"
   ]
  },
  {
   "cell_type": "code",
   "execution_count": 5,
   "metadata": {},
   "outputs": [
    {
     "data": {
      "text/plain": [
       "489"
      ]
     },
     "execution_count": 5,
     "metadata": {},
     "output_type": "execute_result"
    }
   ],
   "source": [
    "maximal_chapeaus = get_maximal_chapeaus(usc29_xml)\n",
    "len(maximal_chapeaus)"
   ]
  },
  {
   "cell_type": "code",
   "execution_count": 6,
   "metadata": {},
   "outputs": [
    {
     "data": {
      "text/plain": [
       "548714"
      ]
     },
     "execution_count": 6,
     "metadata": {},
     "output_type": "execute_result"
    }
   ],
   "source": [
    "len(usc29_xml.get_text().split(\" \"))"
   ]
  },
  {
   "cell_type": "code",
   "execution_count": 8,
   "metadata": {},
   "outputs": [
    {
     "name": "stderr",
     "output_type": "stream",
     "text": [
      "100%|██████████| 50/50 [16:59<00:00, 20.39s/it]\n"
     ]
    }
   ],
   "source": [
    "import os\n",
    "import traceback\n",
    "from tqdm import tqdm\n",
    "for id, chapeau in tqdm(list(maximal_chapeaus.items())[:50]):\n",
    "    # create folder with name of id if it doesn't already exist\n",
    "    dir = 'results/'+id\n",
    "    if not os.path.exists(dir):\n",
    "        os.makedirs(dir)\n",
    "    # try to parse chapeau. if it fails, save the error message to a file and continue\n",
    "    try:\n",
    "        parse = chapeau_parse(chapeau, nlp_tok, nlp)\n",
    "        parse.constparse_to_pdf('{}/{}-constparse.pdf'.format(dir,id))\n",
    "        parse.depparse_to_pdf('{}/{}-deppparse.pdf'.format(dir,id))\n",
    "        with open ('{}/{}-tok.txt'.format(dir,id), 'w') as file:\n",
    "            file.write(parse.tok)\n",
    "        if parse.continuation_constparses != []:\n",
    "            parse.continuation_constparses_to_pdf('{}/{}-contconstparse.pdf'.format(dir,id))\n",
    "        if parse.continuation_depparses != []:\n",
    "            parse.continuation_depparses_to_pdf('{}/{}-contdeppparse.pdf'.format(dir,id))\n",
    "    except Exception as e:\n",
    "        with open('{}/{}-traceback.txt'.format(dir,id), 'w') as file:\n",
    "            file.write(traceback.format_exc())\n",
    "        with open('{}/{}-error.txt'.format(dir,id), 'w') as file:\n",
    "            file.write(str(e))\n",
    "        continue"
   ]
  },
  {
   "cell_type": "code",
   "execution_count": 7,
   "metadata": {},
   "outputs": [
    {
     "ename": "IndexError",
     "evalue": "list index out of range",
     "output_type": "error",
     "traceback": [
      "\u001b[0;31m---------------------------------------------------------------------------\u001b[0m",
      "\u001b[0;31mIndexError\u001b[0m                                Traceback (most recent call last)",
      "Cell \u001b[0;32mIn[7], line 1\u001b[0m\n\u001b[0;32m----> 1\u001b[0m \u001b[43mchapeau_parse\u001b[49m\u001b[43m(\u001b[49m\u001b[43mmaximal_chapeaus\u001b[49m\u001b[43m[\u001b[49m\u001b[38;5;124;43m'\u001b[39;49m\u001b[38;5;124;43mid296b2ce4-2a73-11ef-ba6d-a9961dfb011e\u001b[39;49m\u001b[38;5;124;43m'\u001b[39;49m\u001b[43m]\u001b[49m\u001b[43m,\u001b[49m\u001b[43m \u001b[49m\u001b[43mnlp_tok\u001b[49m\u001b[43m,\u001b[49m\u001b[43m \u001b[49m\u001b[43mnlp\u001b[49m\u001b[43m)\u001b[49m\n",
      "File \u001b[0;32m~/Documents/chapeau_parse/chapeau_parse.py:9\u001b[0m, in \u001b[0;36mchapeau_parse.__init__\u001b[0;34m(self, chapeau, tokenizer, parser)\u001b[0m\n\u001b[1;32m      8\u001b[0m \u001b[38;5;28;01mdef\u001b[39;00m \u001b[38;5;21m__init__\u001b[39m(\u001b[38;5;28mself\u001b[39m, chapeau, tokenizer, parser):\n\u001b[0;32m----> 9\u001b[0m   \u001b[38;5;28mself\u001b[39m\u001b[38;5;241m.\u001b[39mconstparse, \u001b[38;5;28mself\u001b[39m\u001b[38;5;241m.\u001b[39mdepparse, \u001b[38;5;28mself\u001b[39m\u001b[38;5;241m.\u001b[39mcontinuation_constparses, \u001b[38;5;28mself\u001b[39m\u001b[38;5;241m.\u001b[39mcontinuation_depparses, \u001b[38;5;28mself\u001b[39m\u001b[38;5;241m.\u001b[39mtok \u001b[38;5;241m=\u001b[39m \u001b[38;5;28;43mself\u001b[39;49m\u001b[38;5;241;43m.\u001b[39;49m\u001b[43mget_chapeau_parse\u001b[49m\u001b[43m(\u001b[49m\u001b[43mchapeau\u001b[49m\u001b[43m,\u001b[49m\u001b[43m \u001b[49m\u001b[43mtokenizer\u001b[49m\u001b[43m,\u001b[49m\u001b[43m \u001b[49m\u001b[43mparser\u001b[49m\u001b[43m)\u001b[49m\n\u001b[1;32m     11\u001b[0m   \u001b[38;5;28mself\u001b[39m\u001b[38;5;241m.\u001b[39mconstparse[\u001b[38;5;241m0\u001b[39m]\u001b[38;5;241m.\u001b[39mappend(ParentedTree(\u001b[38;5;124m'\u001b[39m\u001b[38;5;124m.\u001b[39m\u001b[38;5;124m'\u001b[39m, [\u001b[38;5;124m'\u001b[39m\u001b[38;5;124m.\u001b[39m\u001b[38;5;124m'\u001b[39m]))\n\u001b[1;32m     13\u001b[0m   period_head_address \u001b[38;5;241m=\u001b[39m  \u001b[38;5;28mmax\u001b[39m([n[\u001b[38;5;124m'\u001b[39m\u001b[38;5;124maddress\u001b[39m\u001b[38;5;124m'\u001b[39m] \u001b[38;5;28;01mfor\u001b[39;00m n \u001b[38;5;129;01min\u001b[39;00m \u001b[38;5;28mself\u001b[39m\u001b[38;5;241m.\u001b[39mdepparse\u001b[38;5;241m.\u001b[39mnodes\u001b[38;5;241m.\u001b[39mvalues()])\n",
      "File \u001b[0;32m~/Documents/chapeau_parse/chapeau_parse.py:70\u001b[0m, in \u001b[0;36mchapeau_parse.get_chapeau_parse\u001b[0;34m(self, chapeau, tokenizer, parser)\u001b[0m\n\u001b[1;32m     68\u001b[0m \u001b[38;5;28;01melse\u001b[39;00m:\n\u001b[1;32m     69\u001b[0m   string \u001b[38;5;241m=\u001b[39m lelem\u001b[38;5;241m.\u001b[39mfind(\u001b[38;5;124m'\u001b[39m\u001b[38;5;124mcontent\u001b[39m\u001b[38;5;124m'\u001b[39m)\u001b[38;5;241m.\u001b[39mget_text()\n\u001b[0;32m---> 70\u001b[0m   list_tok \u001b[38;5;241m=\u001b[39m \u001b[43m_get_tokens\u001b[49m\u001b[43m(\u001b[49m\u001b[43mstring\u001b[49m\u001b[43m)\u001b[49m\n\u001b[1;32m     71\u001b[0m   coord_tok \u001b[38;5;241m+\u001b[39m\u001b[38;5;241m=\u001b[39m \u001b[38;5;124m\"\u001b[39m\u001b[38;5;124m \u001b[39m\u001b[38;5;124m\"\u001b[39m \u001b[38;5;241m+\u001b[39m list_tok\u001b[38;5;241m.\u001b[39mstrip()\n\u001b[1;32m     72\u001b[0m   tokens \u001b[38;5;241m=\u001b[39m list_tok\u001b[38;5;241m.\u001b[39msplit(\u001b[38;5;124m\"\u001b[39m\u001b[38;5;124m \u001b[39m\u001b[38;5;124m\"\u001b[39m)\n",
      "File \u001b[0;32m~/Documents/chapeau_parse/chapeau_parse.py:34\u001b[0m, in \u001b[0;36mchapeau_parse.get_chapeau_parse.<locals>._get_tokens\u001b[0;34m(string)\u001b[0m\n\u001b[1;32m     33\u001b[0m \u001b[38;5;28;01mdef\u001b[39;00m \u001b[38;5;21m_get_tokens\u001b[39m(string):\n\u001b[0;32m---> 34\u001b[0m   \u001b[38;5;28;01mreturn\u001b[39;00m \u001b[38;5;124m\"\u001b[39m\u001b[38;5;124m \u001b[39m\u001b[38;5;124m\"\u001b[39m\u001b[38;5;241m.\u001b[39mjoin([t\u001b[38;5;241m.\u001b[39mtext \u001b[38;5;28;01mfor\u001b[39;00m t \u001b[38;5;129;01min\u001b[39;00m \u001b[43mtokenizer\u001b[49m\u001b[43m(\u001b[49m\u001b[43mstring\u001b[49m\u001b[43m)\u001b[49m\u001b[38;5;241;43m.\u001b[39;49m\u001b[43msentences\u001b[49m\u001b[43m[\u001b[49m\u001b[38;5;241;43m0\u001b[39;49m\u001b[43m]\u001b[49m\u001b[38;5;241m.\u001b[39mtokens])\n",
      "\u001b[0;31mIndexError\u001b[0m: list index out of range"
     ]
    }
   ],
   "source": [
    "# investigate the error in id296b2ce4-2a73-11ef-ba6d-a9961dfb011e\n",
    "chapeau_parse(maximal_chapeaus['id296b2ce4-2a73-11ef-ba6d-a9961dfb011e'], nlp_tok, nlp)"
   ]
  }
 ],
 "metadata": {
  "kernelspec": {
   "display_name": ".venv",
   "language": "python",
   "name": "python3"
  },
  "language_info": {
   "codemirror_mode": {
    "name": "ipython",
    "version": 3
   },
   "file_extension": ".py",
   "mimetype": "text/x-python",
   "name": "python",
   "nbconvert_exporter": "python",
   "pygments_lexer": "ipython3",
   "version": "3.12.7"
  }
 },
 "nbformat": 4,
 "nbformat_minor": 2
}
